{
 "cells": [
  {
   "cell_type": "markdown",
   "id": "9135406e-6107-4898-8cf3-9c8c3963b168",
   "metadata": {},
   "source": [
    "## CE PROJET VA VOUS PERMETTRE D'ANALYSER LES DIFFERENTES CAUSES DE MORTALITE DANS LE MONDE."
   ]
  },
  {
   "cell_type": "code",
   "execution_count": 3,
   "id": "2f76cff1-fac7-43ec-abee-eb82c226c070",
   "metadata": {},
   "outputs": [],
   "source": [
    "import pandas as pd\n",
    "import numpy as np\n",
    "import matplotlib.pyplot as plt"
   ]
  },
  {
   "cell_type": "code",
   "execution_count": 4,
   "id": "4947c538-b2a8-4871-a6cc-e4a052f215c2",
   "metadata": {},
   "outputs": [],
   "source": [
    "df = pd.read_csv(r\"C:\\Users\\leapa\\DIVERS\\Downloads\\2xDwqFz1TVqI5hDW6UPr_Annual cause death numbers new.csv\")"
   ]
  },
  {
   "cell_type": "code",
   "execution_count": 5,
   "id": "bbdeace4-0caa-4057-8776-d224400c1229",
   "metadata": {
    "scrolled": true
   },
   "outputs": [
    {
     "data": {
      "text/html": [
       "<div>\n",
       "<style scoped>\n",
       "    .dataframe tbody tr th:only-of-type {\n",
       "        vertical-align: middle;\n",
       "    }\n",
       "\n",
       "    .dataframe tbody tr th {\n",
       "        vertical-align: top;\n",
       "    }\n",
       "\n",
       "    .dataframe thead th {\n",
       "        text-align: right;\n",
       "    }\n",
       "</style>\n",
       "<table border=\"1\" class=\"dataframe\">\n",
       "  <thead>\n",
       "    <tr style=\"text-align: right;\">\n",
       "      <th></th>\n",
       "      <th>Entity</th>\n",
       "      <th>Code</th>\n",
       "      <th>Year</th>\n",
       "      <th>Meningitis fatalities\\n\\n\\n\\n\\n\\n</th>\n",
       "      <th>Dementia fatalities\\n\\n\\n\\n\\n\\n</th>\n",
       "      <th>Parkinson s fatalities\\n\\n\\n\\n\\n\\n</th>\n",
       "      <th>Nutritional deficiency fatalities\\n\\n\\n\\n\\n\\n</th>\n",
       "      <th>Malaria fatalities\\n\\n\\n\\n\\n\\n</th>\n",
       "      <th>Drowning fatalities\\n\\n\\n\\n\\n\\n</th>\n",
       "      <th>Interpersonal violence fatalities\\n\\n\\n\\n\\n\\n</th>\n",
       "      <th>...</th>\n",
       "      <th>Chronic kidney fatalities\\n\\n\\n\\n\\n\\n</th>\n",
       "      <th>Poisoning fatalities\\n\\n\\n\\n\\n\\n</th>\n",
       "      <th>Protein energy malnutrition fatalities\\n\\n\\n\\n\\n\\n</th>\n",
       "      <th>Road injury fatalities\\n\\n\\n\\n\\n\\n</th>\n",
       "      <th>Chronic respiratory fatalities\\n\\n\\n\\n\\n\\n</th>\n",
       "      <th>Chronic liver fatalities\\n\\n\\n\\n\\n\\n</th>\n",
       "      <th>Digestive disease fatalities\\n\\n\\n\\n\\n\\n</th>\n",
       "      <th>Fire fatalities\\n\\n\\n\\n\\n\\n</th>\n",
       "      <th>Acute hepatitis fatalities</th>\n",
       "      <th>Measles fatalities</th>\n",
       "    </tr>\n",
       "  </thead>\n",
       "  <tbody>\n",
       "    <tr>\n",
       "      <th>0</th>\n",
       "      <td>Afghanistan</td>\n",
       "      <td>AFG</td>\n",
       "      <td>1990</td>\n",
       "      <td>2159</td>\n",
       "      <td>1116</td>\n",
       "      <td>371</td>\n",
       "      <td>2087</td>\n",
       "      <td>93</td>\n",
       "      <td>1370</td>\n",
       "      <td>1538</td>\n",
       "      <td>...</td>\n",
       "      <td>3709</td>\n",
       "      <td>338</td>\n",
       "      <td>2054</td>\n",
       "      <td>4154</td>\n",
       "      <td>5945</td>\n",
       "      <td>2673</td>\n",
       "      <td>5005</td>\n",
       "      <td>323</td>\n",
       "      <td>2985</td>\n",
       "      <td>10037</td>\n",
       "    </tr>\n",
       "    <tr>\n",
       "      <th>1</th>\n",
       "      <td>Afghanistan</td>\n",
       "      <td>AFG</td>\n",
       "      <td>1991</td>\n",
       "      <td>2218</td>\n",
       "      <td>1136</td>\n",
       "      <td>374</td>\n",
       "      <td>2153</td>\n",
       "      <td>189</td>\n",
       "      <td>1391</td>\n",
       "      <td>2001</td>\n",
       "      <td>...</td>\n",
       "      <td>3724</td>\n",
       "      <td>351</td>\n",
       "      <td>2119</td>\n",
       "      <td>4472</td>\n",
       "      <td>6050</td>\n",
       "      <td>2728</td>\n",
       "      <td>5120</td>\n",
       "      <td>332</td>\n",
       "      <td>3092</td>\n",
       "      <td>10021</td>\n",
       "    </tr>\n",
       "    <tr>\n",
       "      <th>2</th>\n",
       "      <td>Afghanistan</td>\n",
       "      <td>AFG</td>\n",
       "      <td>1992</td>\n",
       "      <td>2475</td>\n",
       "      <td>1162</td>\n",
       "      <td>378</td>\n",
       "      <td>2441</td>\n",
       "      <td>239</td>\n",
       "      <td>1514</td>\n",
       "      <td>2299</td>\n",
       "      <td>...</td>\n",
       "      <td>3776</td>\n",
       "      <td>386</td>\n",
       "      <td>2404</td>\n",
       "      <td>5106</td>\n",
       "      <td>6223</td>\n",
       "      <td>2830</td>\n",
       "      <td>5335</td>\n",
       "      <td>360</td>\n",
       "      <td>3325</td>\n",
       "      <td>9807</td>\n",
       "    </tr>\n",
       "    <tr>\n",
       "      <th>3</th>\n",
       "      <td>Afghanistan</td>\n",
       "      <td>AFG</td>\n",
       "      <td>1993</td>\n",
       "      <td>2812</td>\n",
       "      <td>1187</td>\n",
       "      <td>384</td>\n",
       "      <td>2837</td>\n",
       "      <td>108</td>\n",
       "      <td>1687</td>\n",
       "      <td>2589</td>\n",
       "      <td>...</td>\n",
       "      <td>3862</td>\n",
       "      <td>425</td>\n",
       "      <td>2797</td>\n",
       "      <td>5681</td>\n",
       "      <td>6445</td>\n",
       "      <td>2943</td>\n",
       "      <td>5568</td>\n",
       "      <td>396</td>\n",
       "      <td>3601</td>\n",
       "      <td>10228</td>\n",
       "    </tr>\n",
       "    <tr>\n",
       "      <th>4</th>\n",
       "      <td>Afghanistan</td>\n",
       "      <td>AFG</td>\n",
       "      <td>1994</td>\n",
       "      <td>3027</td>\n",
       "      <td>1211</td>\n",
       "      <td>391</td>\n",
       "      <td>3081</td>\n",
       "      <td>211</td>\n",
       "      <td>1809</td>\n",
       "      <td>2849</td>\n",
       "      <td>...</td>\n",
       "      <td>3932</td>\n",
       "      <td>451</td>\n",
       "      <td>3038</td>\n",
       "      <td>6001</td>\n",
       "      <td>6664</td>\n",
       "      <td>3027</td>\n",
       "      <td>5739</td>\n",
       "      <td>420</td>\n",
       "      <td>3816</td>\n",
       "      <td>12144</td>\n",
       "    </tr>\n",
       "  </tbody>\n",
       "</table>\n",
       "<p>5 rows × 35 columns</p>\n",
       "</div>"
      ],
      "text/plain": [
       "        Entity Code  Year  Meningitis fatalities\\n\\n\\n\\n\\n\\n  \\\n",
       "0  Afghanistan  AFG  1990                               2159   \n",
       "1  Afghanistan  AFG  1991                               2218   \n",
       "2  Afghanistan  AFG  1992                               2475   \n",
       "3  Afghanistan  AFG  1993                               2812   \n",
       "4  Afghanistan  AFG  1994                               3027   \n",
       "\n",
       "   Dementia fatalities\\n\\n\\n\\n\\n\\n  Parkinson s fatalities\\n\\n\\n\\n\\n\\n  \\\n",
       "0                             1116                                 371   \n",
       "1                             1136                                 374   \n",
       "2                             1162                                 378   \n",
       "3                             1187                                 384   \n",
       "4                             1211                                 391   \n",
       "\n",
       "   Nutritional deficiency fatalities\\n\\n\\n\\n\\n\\n  \\\n",
       "0                                           2087   \n",
       "1                                           2153   \n",
       "2                                           2441   \n",
       "3                                           2837   \n",
       "4                                           3081   \n",
       "\n",
       "   Malaria fatalities\\n\\n\\n\\n\\n\\n  Drowning fatalities\\n\\n\\n\\n\\n\\n  \\\n",
       "0                              93                             1370   \n",
       "1                             189                             1391   \n",
       "2                             239                             1514   \n",
       "3                             108                             1687   \n",
       "4                             211                             1809   \n",
       "\n",
       "   Interpersonal violence fatalities\\n\\n\\n\\n\\n\\n  ...  \\\n",
       "0                                           1538  ...   \n",
       "1                                           2001  ...   \n",
       "2                                           2299  ...   \n",
       "3                                           2589  ...   \n",
       "4                                           2849  ...   \n",
       "\n",
       "   Chronic kidney fatalities\\n\\n\\n\\n\\n\\n  Poisoning fatalities\\n\\n\\n\\n\\n\\n  \\\n",
       "0                                   3709                               338   \n",
       "1                                   3724                               351   \n",
       "2                                   3776                               386   \n",
       "3                                   3862                               425   \n",
       "4                                   3932                               451   \n",
       "\n",
       "   Protein energy malnutrition fatalities\\n\\n\\n\\n\\n\\n  \\\n",
       "0                                               2054    \n",
       "1                                               2119    \n",
       "2                                               2404    \n",
       "3                                               2797    \n",
       "4                                               3038    \n",
       "\n",
       "   Road injury fatalities\\n\\n\\n\\n\\n\\n  \\\n",
       "0                                4154   \n",
       "1                                4472   \n",
       "2                                5106   \n",
       "3                                5681   \n",
       "4                                6001   \n",
       "\n",
       "   Chronic respiratory fatalities\\n\\n\\n\\n\\n\\n  \\\n",
       "0                                        5945   \n",
       "1                                        6050   \n",
       "2                                        6223   \n",
       "3                                        6445   \n",
       "4                                        6664   \n",
       "\n",
       "   Chronic liver fatalities\\n\\n\\n\\n\\n\\n  \\\n",
       "0                                  2673   \n",
       "1                                  2728   \n",
       "2                                  2830   \n",
       "3                                  2943   \n",
       "4                                  3027   \n",
       "\n",
       "   Digestive disease fatalities\\n\\n\\n\\n\\n\\n  Fire fatalities\\n\\n\\n\\n\\n\\n  \\\n",
       "0                                      5005                          323   \n",
       "1                                      5120                          332   \n",
       "2                                      5335                          360   \n",
       "3                                      5568                          396   \n",
       "4                                      5739                          420   \n",
       "\n",
       "   Acute hepatitis fatalities  Measles fatalities  \n",
       "0                        2985               10037  \n",
       "1                        3092               10021  \n",
       "2                        3325                9807  \n",
       "3                        3601               10228  \n",
       "4                        3816               12144  \n",
       "\n",
       "[5 rows x 35 columns]"
      ]
     },
     "execution_count": 5,
     "metadata": {},
     "output_type": "execute_result"
    }
   ],
   "source": [
    "df.head()\n"
   ]
  },
  {
   "cell_type": "code",
   "execution_count": 6,
   "id": "703f02ba-a9ec-4163-b3f1-c0a10517ff70",
   "metadata": {},
   "outputs": [
    {
     "data": {
      "text/plain": [
       "Entity                                                1\n",
       "Poisoning fatalities\\n\\n\\n\\n\\n\\n                      1\n",
       "Diarrheal disease fatalities\\n\\n\\n\\n\\n\\n              1\n",
       "Environmental exposure fatalities\\n\\n\\n\\n\\n\\n         1\n",
       "Neoplasm fatalities\\n\\n\\n\\n\\n\\n                       1\n",
       "Conflict fatalities\\n\\n\\n\\n\\n\\n                       1\n",
       "Diabetes fatalities\\n\\n\\n\\n\\n\\n                       1\n",
       "Chronic kidney fatalities\\n\\n\\n\\n\\n\\n                 1\n",
       "Protein energy malnutrition fatalities\\n\\n\\n\\n\\n\\n    1\n",
       "Self harm fatalities\\n\\n\\n\\n\\n\\n                      1\n",
       "Road injury fatalities\\n\\n\\n\\n\\n\\n                    1\n",
       "Chronic respiratory fatalities\\n\\n\\n\\n\\n\\n            1\n",
       "Chronic liver fatalities\\n\\n\\n\\n\\n\\n                  1\n",
       "Digestive disease fatalities\\n\\n\\n\\n\\n\\n              1\n",
       "Fire fatalities\\n\\n\\n\\n\\n\\n                           1\n",
       "Acute hepatitis fatalities                            1\n",
       "Forces of nature fatalities\\n\\n\\n\\n\\n\\n               1\n",
       "Alcohol disorder fatalities\\n\\n\\n\\n\\n\\n               1\n",
       "Code                                                  1\n",
       "Drowning fatalities\\n\\n\\n\\n\\n\\n                       1\n",
       "Year                                                  1\n",
       "Meningitis fatalities\\n\\n\\n\\n\\n\\n                     1\n",
       "Dementia fatalities\\n\\n\\n\\n\\n\\n                       1\n",
       "Parkinson s fatalities\\n\\n\\n\\n\\n\\n                    1\n",
       "Nutritional deficiency fatalities\\n\\n\\n\\n\\n\\n         1\n",
       "Malaria fatalities\\n\\n\\n\\n\\n\\n                        1\n",
       "Interpersonal violence fatalities\\n\\n\\n\\n\\n\\n         1\n",
       "Neonatal disorder fatalities\\n\\n\\n\\n\\n\\n              1\n",
       "Maternal disorder fatalities\\n\\n\\n\\n\\n\\n              1\n",
       "HIV/AIDS fatalities\\n\\n\\n\\n\\n\\n                       1\n",
       "Drug disorder fatalities\\n\\n\\n\\n\\n\\n                  1\n",
       "Tuberculosis fatalities\\n\\n\\n\\n\\n\\n                   1\n",
       "Cardiovascular fatalities\\n\\n\\n\\n\\n\\n                 1\n",
       "Lower respiratory fatalities\\n\\n\\n\\n\\n\\n              1\n",
       "Measles fatalities                                    1\n",
       "Name: count, dtype: int64"
      ]
     },
     "execution_count": 6,
     "metadata": {},
     "output_type": "execute_result"
    }
   ],
   "source": [
    "df.columns.value_counts()"
   ]
  },
  {
   "cell_type": "code",
   "execution_count": 7,
   "id": "80cc5be8-a34b-4f25-8a78-e3ac0e9a7c48",
   "metadata": {},
   "outputs": [
    {
     "data": {
      "text/plain": [
       "Entity                                                0\n",
       "Code                                                  0\n",
       "Year                                                  0\n",
       "Meningitis fatalities\\n\\n\\n\\n\\n\\n                     0\n",
       "Dementia fatalities\\n\\n\\n\\n\\n\\n                       0\n",
       "Parkinson s fatalities\\n\\n\\n\\n\\n\\n                    0\n",
       "Nutritional deficiency fatalities\\n\\n\\n\\n\\n\\n         0\n",
       "Malaria fatalities\\n\\n\\n\\n\\n\\n                        0\n",
       "Drowning fatalities\\n\\n\\n\\n\\n\\n                       0\n",
       "Interpersonal violence fatalities\\n\\n\\n\\n\\n\\n         0\n",
       "Maternal disorder fatalities\\n\\n\\n\\n\\n\\n              0\n",
       "HIV/AIDS fatalities\\n\\n\\n\\n\\n\\n                       0\n",
       "Drug disorder fatalities\\n\\n\\n\\n\\n\\n                  0\n",
       "Tuberculosis fatalities\\n\\n\\n\\n\\n\\n                   0\n",
       "Cardiovascular fatalities\\n\\n\\n\\n\\n\\n                 0\n",
       "Lower respiratory fatalities\\n\\n\\n\\n\\n\\n              0\n",
       "Neonatal disorder fatalities\\n\\n\\n\\n\\n\\n              0\n",
       "Alcohol disorder fatalities\\n\\n\\n\\n\\n\\n               0\n",
       "Self harm fatalities\\n\\n\\n\\n\\n\\n                      0\n",
       "Forces of nature fatalities\\n\\n\\n\\n\\n\\n               0\n",
       "Diarrheal disease fatalities\\n\\n\\n\\n\\n\\n              0\n",
       "Environmental exposure fatalities\\n\\n\\n\\n\\n\\n         0\n",
       "Neoplasm fatalities\\n\\n\\n\\n\\n\\n                       0\n",
       "Conflict fatalities\\n\\n\\n\\n\\n\\n                       0\n",
       "Diabetes fatalities\\n\\n\\n\\n\\n\\n                       0\n",
       "Chronic kidney fatalities\\n\\n\\n\\n\\n\\n                 0\n",
       "Poisoning fatalities\\n\\n\\n\\n\\n\\n                      0\n",
       "Protein energy malnutrition fatalities\\n\\n\\n\\n\\n\\n    0\n",
       "Road injury fatalities\\n\\n\\n\\n\\n\\n                    0\n",
       "Chronic respiratory fatalities\\n\\n\\n\\n\\n\\n            0\n",
       "Chronic liver fatalities\\n\\n\\n\\n\\n\\n                  0\n",
       "Digestive disease fatalities\\n\\n\\n\\n\\n\\n              0\n",
       "Fire fatalities\\n\\n\\n\\n\\n\\n                           0\n",
       "Acute hepatitis fatalities                            0\n",
       "Measles fatalities                                    0\n",
       "dtype: int64"
      ]
     },
     "execution_count": 7,
     "metadata": {},
     "output_type": "execute_result"
    }
   ],
   "source": [
    "df.isna().sum()"
   ]
  },
  {
   "cell_type": "code",
   "execution_count": 8,
   "id": "2a81d1df-5141-48e6-b8c7-dfbde80f160c",
   "metadata": {},
   "outputs": [
    {
     "data": {
      "text/plain": [
       "array([1990, 1991, 1992, 1993, 1994, 1995, 1996, 1997, 1998, 1999, 2000,\n",
       "       2001, 2002, 2003, 2004, 2005, 2006, 2007, 2008, 2009, 2010, 2011,\n",
       "       2012, 2013, 2014, 2015, 2016, 2017, 2018, 2019], dtype=int64)"
      ]
     },
     "execution_count": 8,
     "metadata": {},
     "output_type": "execute_result"
    }
   ],
   "source": [
    "df[\"Year\"].unique()"
   ]
  },
  {
   "cell_type": "code",
   "execution_count": 9,
   "id": "25bc6a1f-4240-4ef2-a0b3-c8a580619af1",
   "metadata": {},
   "outputs": [
    {
     "data": {
      "text/plain": [
       "(6840, 35)"
      ]
     },
     "execution_count": 9,
     "metadata": {},
     "output_type": "execute_result"
    }
   ],
   "source": [
    "df.shape"
   ]
  },
  {
   "cell_type": "code",
   "execution_count": 10,
   "id": "9a68ad0c-7d68-49bf-a444-035bb1c07116",
   "metadata": {},
   "outputs": [
    {
     "data": {
      "text/plain": [
       "array(['AFG', 'wb', 'ALB', 'DZA', 'ASM', 'AND', 'AGO', 'ATG', 'ARG',\n",
       "       'ARM', 'AUS', 'AUT', 'AZE', 'BHS', 'BHR', 'BGD', 'BRB', 'BLR',\n",
       "       'BEL', 'BLZ', 'BEN', 'BMU', 'BTN', 'BOL', 'BIH', 'BWA', 'BRA',\n",
       "       'BRN', 'BGR', 'BFA', 'BDI', 'KHM', 'CMR', 'CAN', 'CPV', 'CAF',\n",
       "       'TCD', 'CHL', 'CHN', 'COL', 'COM', 'COG', 'COK', 'CRI', 'CIV',\n",
       "       'HRV', 'CUB', 'CYP', 'CZE', 'COD', 'DNK', 'DJI', 'DMA', 'DOM',\n",
       "       'TLS', 'ECU', 'EGY', 'SLV', 'GNQ', 'ERI', 'EST', 'SWZ', 'ETH',\n",
       "       'FJI', 'FIN', 'FRA', 'GAB', 'GMB', 'GEO', 'DEU', 'GHA', 'GRC',\n",
       "       'GRL', 'GRD', 'GUM', 'GTM', 'GIN', 'GNB', 'GUY', 'HTI', 'HND',\n",
       "       'HUN', 'ISL', 'IND', 'IDN', 'IRN', 'IRQ', 'IRL', 'ISR', 'ITA',\n",
       "       'JAM', 'JPN', 'JOR', 'KAZ', 'KEN', 'KIR', 'KWT', 'KGZ', 'LAO',\n",
       "       'LVA', 'LBN', 'LSO', 'LBR', 'LBY', 'LTU', 'LUX', 'MDG', 'MWI',\n",
       "       'MYS', 'MDV', 'MLI', 'MLT', 'MHL', 'MRT', 'MUS', 'MEX', 'FSM',\n",
       "       'MDA', 'MCO', 'MNG', 'MNE', 'MAR', 'MOZ', 'MMR', 'NAM', 'NRU',\n",
       "       'NPL', 'NLD', 'NZL', 'NIC', 'NER', 'NGA', 'NIU', 'PRK', 'MKD',\n",
       "       'MNP', 'NOR', 'OMN', 'PAK', 'PLW', 'PSE', 'PAN', 'PNG', 'PRY',\n",
       "       'PER', 'PHL', 'POL', 'PRT', 'PRI', 'QAT', 'ROU', 'RUS', 'RWA',\n",
       "       'KNA', 'LCA', 'VCT', 'WSM', 'SMR', 'STP', 'SAU', 'SEN', 'SRB',\n",
       "       'SYC', 'SLE', 'SGP', 'SVK', 'SVN', 'SLB', 'SOM', 'ZAF', 'KOR',\n",
       "       'SSD', 'ESP', 'LKA', 'SDN', 'SUR', 'SWE', 'CHE', 'SYR', 'TWN',\n",
       "       'TJK', 'TZA', 'THA', 'TGO', 'TKL', 'TON', 'TTO', 'TUN', 'TUR',\n",
       "       'TKM', 'TUV', 'UGA', 'UKR', 'ARE', 'GBR', 'USA', 'VIR', 'URY',\n",
       "       'UZB', 'VUT', 'VEN', 'VNM', 'OWID_WRL', 'YEM', 'ZMB', 'ZWE'],\n",
       "      dtype=object)"
      ]
     },
     "execution_count": 10,
     "metadata": {},
     "output_type": "execute_result"
    }
   ],
   "source": [
    "df[\"Code\"].unique()"
   ]
  },
  {
   "cell_type": "code",
   "execution_count": 11,
   "id": "b9b39d1f-8a3b-4088-b02f-95105bfafefa",
   "metadata": {},
   "outputs": [
    {
     "name": "stdout",
     "output_type": "stream",
     "text": [
      "228\n"
     ]
    }
   ],
   "source": [
    "print(len(df[\"Entity\"].unique())) "
   ]
  },
  {
   "cell_type": "code",
   "execution_count": 12,
   "id": "08475338-5f96-4d2c-8266-5a8e35dcd231",
   "metadata": {},
   "outputs": [],
   "source": [
    "#df.head(100)"
   ]
  },
  {
   "cell_type": "code",
   "execution_count": 13,
   "id": "45cb8606-5551-45e8-b5b7-5ca26ed42479",
   "metadata": {},
   "outputs": [
    {
     "data": {
      "text/plain": [
       "(6840, 35)"
      ]
     },
     "execution_count": 13,
     "metadata": {},
     "output_type": "execute_result"
    }
   ],
   "source": [
    "df.shape"
   ]
  },
  {
   "cell_type": "code",
   "execution_count": 14,
   "id": "ecb37c92-1b67-4a67-87a2-d98ad8fa7c86",
   "metadata": {},
   "outputs": [],
   "source": [
    "df.drop_duplicates(inplace = True)"
   ]
  },
  {
   "cell_type": "code",
   "execution_count": 15,
   "id": "be0c579b-1ab5-4bce-832e-0e9df7fa1701",
   "metadata": {},
   "outputs": [],
   "source": [
    "df.columns = [\n",
    "\"Entité\",\n",
    "\"Code\",\n",
    "\"Année\",\n",
    "\"Méningite\", \n",
    "\"Démence\",\n",
    "\"Parkinson s\", \n",
    "\"Déficience nutritionnelle \",\n",
    "\"Le paludisme\",\n",
    "\"Noyade\",\n",
    "\"Interpersonnel\",\n",
    "\"Troubles maternels\", \n",
    "\"VIH/SIDA\",\n",
    "\"Troubles liés à la drogue\",\n",
    "\"Tuberculose\",\n",
    "\"Cardiovasculaire\", \n",
    "\"Troubles respiratoires inférieurs\", \n",
    "\"Troubles néonataux f\",\n",
    "\"Troubles liés à l'alcool\", \n",
    "\"Auto-mutilation\",\n",
    "\"Forces de la nature\", \n",
    "\"Maladie diarrhéique \",\n",
    "\"Environnement\",\n",
    "\"Tumeur\",\n",
    "\"Conflit\",\n",
    "\"Diabète\",\n",
    "\"Reins chroniques\", \n",
    "\"Empoisonnement\",\n",
    "\"Malnutrition protéino-énergétique\",\n",
    "\"Blessures de la route\",\n",
    "\"Maladie respiratoire chronique\", \n",
    "\"Maladie chronique du foie\",\n",
    "\"Maladie digestive\",\n",
    "\"Décès dus aux incendies\",\n",
    "\"Hépatite aiguë\",\n",
    "\"Rougeole \"\n",
    "]"
   ]
  },
  {
   "cell_type": "code",
   "execution_count": 16,
   "id": "3d1bcfea-41be-4f40-a45a-d68a7262774e",
   "metadata": {},
   "outputs": [
    {
     "data": {
      "text/html": [
       "<div>\n",
       "<style scoped>\n",
       "    .dataframe tbody tr th:only-of-type {\n",
       "        vertical-align: middle;\n",
       "    }\n",
       "\n",
       "    .dataframe tbody tr th {\n",
       "        vertical-align: top;\n",
       "    }\n",
       "\n",
       "    .dataframe thead th {\n",
       "        text-align: right;\n",
       "    }\n",
       "</style>\n",
       "<table border=\"1\" class=\"dataframe\">\n",
       "  <thead>\n",
       "    <tr style=\"text-align: right;\">\n",
       "      <th></th>\n",
       "      <th>Entité</th>\n",
       "      <th>Code</th>\n",
       "      <th>Année</th>\n",
       "      <th>Méningite</th>\n",
       "      <th>Démence</th>\n",
       "      <th>Parkinson s</th>\n",
       "      <th>Déficience nutritionnelle</th>\n",
       "      <th>Le paludisme</th>\n",
       "      <th>Noyade</th>\n",
       "      <th>Interpersonnel</th>\n",
       "      <th>...</th>\n",
       "      <th>Reins chroniques</th>\n",
       "      <th>Empoisonnement</th>\n",
       "      <th>Malnutrition protéino-énergétique</th>\n",
       "      <th>Blessures de la route</th>\n",
       "      <th>Maladie respiratoire chronique</th>\n",
       "      <th>Maladie chronique du foie</th>\n",
       "      <th>Maladie digestive</th>\n",
       "      <th>Décès dus aux incendies</th>\n",
       "      <th>Hépatite aiguë</th>\n",
       "      <th>Rougeole</th>\n",
       "    </tr>\n",
       "  </thead>\n",
       "  <tbody>\n",
       "    <tr>\n",
       "      <th>0</th>\n",
       "      <td>Afghanistan</td>\n",
       "      <td>AFG</td>\n",
       "      <td>1990</td>\n",
       "      <td>2159</td>\n",
       "      <td>1116</td>\n",
       "      <td>371</td>\n",
       "      <td>2087</td>\n",
       "      <td>93</td>\n",
       "      <td>1370</td>\n",
       "      <td>1538</td>\n",
       "      <td>...</td>\n",
       "      <td>3709</td>\n",
       "      <td>338</td>\n",
       "      <td>2054</td>\n",
       "      <td>4154</td>\n",
       "      <td>5945</td>\n",
       "      <td>2673</td>\n",
       "      <td>5005</td>\n",
       "      <td>323</td>\n",
       "      <td>2985</td>\n",
       "      <td>10037</td>\n",
       "    </tr>\n",
       "    <tr>\n",
       "      <th>1</th>\n",
       "      <td>Afghanistan</td>\n",
       "      <td>AFG</td>\n",
       "      <td>1991</td>\n",
       "      <td>2218</td>\n",
       "      <td>1136</td>\n",
       "      <td>374</td>\n",
       "      <td>2153</td>\n",
       "      <td>189</td>\n",
       "      <td>1391</td>\n",
       "      <td>2001</td>\n",
       "      <td>...</td>\n",
       "      <td>3724</td>\n",
       "      <td>351</td>\n",
       "      <td>2119</td>\n",
       "      <td>4472</td>\n",
       "      <td>6050</td>\n",
       "      <td>2728</td>\n",
       "      <td>5120</td>\n",
       "      <td>332</td>\n",
       "      <td>3092</td>\n",
       "      <td>10021</td>\n",
       "    </tr>\n",
       "    <tr>\n",
       "      <th>2</th>\n",
       "      <td>Afghanistan</td>\n",
       "      <td>AFG</td>\n",
       "      <td>1992</td>\n",
       "      <td>2475</td>\n",
       "      <td>1162</td>\n",
       "      <td>378</td>\n",
       "      <td>2441</td>\n",
       "      <td>239</td>\n",
       "      <td>1514</td>\n",
       "      <td>2299</td>\n",
       "      <td>...</td>\n",
       "      <td>3776</td>\n",
       "      <td>386</td>\n",
       "      <td>2404</td>\n",
       "      <td>5106</td>\n",
       "      <td>6223</td>\n",
       "      <td>2830</td>\n",
       "      <td>5335</td>\n",
       "      <td>360</td>\n",
       "      <td>3325</td>\n",
       "      <td>9807</td>\n",
       "    </tr>\n",
       "    <tr>\n",
       "      <th>3</th>\n",
       "      <td>Afghanistan</td>\n",
       "      <td>AFG</td>\n",
       "      <td>1993</td>\n",
       "      <td>2812</td>\n",
       "      <td>1187</td>\n",
       "      <td>384</td>\n",
       "      <td>2837</td>\n",
       "      <td>108</td>\n",
       "      <td>1687</td>\n",
       "      <td>2589</td>\n",
       "      <td>...</td>\n",
       "      <td>3862</td>\n",
       "      <td>425</td>\n",
       "      <td>2797</td>\n",
       "      <td>5681</td>\n",
       "      <td>6445</td>\n",
       "      <td>2943</td>\n",
       "      <td>5568</td>\n",
       "      <td>396</td>\n",
       "      <td>3601</td>\n",
       "      <td>10228</td>\n",
       "    </tr>\n",
       "    <tr>\n",
       "      <th>4</th>\n",
       "      <td>Afghanistan</td>\n",
       "      <td>AFG</td>\n",
       "      <td>1994</td>\n",
       "      <td>3027</td>\n",
       "      <td>1211</td>\n",
       "      <td>391</td>\n",
       "      <td>3081</td>\n",
       "      <td>211</td>\n",
       "      <td>1809</td>\n",
       "      <td>2849</td>\n",
       "      <td>...</td>\n",
       "      <td>3932</td>\n",
       "      <td>451</td>\n",
       "      <td>3038</td>\n",
       "      <td>6001</td>\n",
       "      <td>6664</td>\n",
       "      <td>3027</td>\n",
       "      <td>5739</td>\n",
       "      <td>420</td>\n",
       "      <td>3816</td>\n",
       "      <td>12144</td>\n",
       "    </tr>\n",
       "    <tr>\n",
       "      <th>5</th>\n",
       "      <td>Afghanistan</td>\n",
       "      <td>AFG</td>\n",
       "      <td>1995</td>\n",
       "      <td>3102</td>\n",
       "      <td>1225</td>\n",
       "      <td>394</td>\n",
       "      <td>3131</td>\n",
       "      <td>175</td>\n",
       "      <td>1881</td>\n",
       "      <td>2969</td>\n",
       "      <td>...</td>\n",
       "      <td>3974</td>\n",
       "      <td>467</td>\n",
       "      <td>3087</td>\n",
       "      <td>6211</td>\n",
       "      <td>6823</td>\n",
       "      <td>3076</td>\n",
       "      <td>5843</td>\n",
       "      <td>434</td>\n",
       "      <td>3946</td>\n",
       "      <td>13860</td>\n",
       "    </tr>\n",
       "    <tr>\n",
       "      <th>6</th>\n",
       "      <td>Afghanistan</td>\n",
       "      <td>AFG</td>\n",
       "      <td>1996</td>\n",
       "      <td>3193</td>\n",
       "      <td>1239</td>\n",
       "      <td>398</td>\n",
       "      <td>3175</td>\n",
       "      <td>175</td>\n",
       "      <td>1969</td>\n",
       "      <td>3331</td>\n",
       "      <td>...</td>\n",
       "      <td>4041</td>\n",
       "      <td>485</td>\n",
       "      <td>3130</td>\n",
       "      <td>6446</td>\n",
       "      <td>7000</td>\n",
       "      <td>3133</td>\n",
       "      <td>5966</td>\n",
       "      <td>450</td>\n",
       "      <td>4098</td>\n",
       "      <td>14499</td>\n",
       "    </tr>\n",
       "    <tr>\n",
       "      <th>7</th>\n",
       "      <td>Afghanistan</td>\n",
       "      <td>AFG</td>\n",
       "      <td>1997</td>\n",
       "      <td>3304</td>\n",
       "      <td>1253</td>\n",
       "      <td>402</td>\n",
       "      <td>3250</td>\n",
       "      <td>240</td>\n",
       "      <td>2078</td>\n",
       "      <td>3028</td>\n",
       "      <td>...</td>\n",
       "      <td>4094</td>\n",
       "      <td>504</td>\n",
       "      <td>3203</td>\n",
       "      <td>6677</td>\n",
       "      <td>7168</td>\n",
       "      <td>3200</td>\n",
       "      <td>6096</td>\n",
       "      <td>469</td>\n",
       "      <td>4252</td>\n",
       "      <td>14104</td>\n",
       "    </tr>\n",
       "    <tr>\n",
       "      <th>8</th>\n",
       "      <td>Afghanistan</td>\n",
       "      <td>AFG</td>\n",
       "      <td>1998</td>\n",
       "      <td>3281</td>\n",
       "      <td>1267</td>\n",
       "      <td>405</td>\n",
       "      <td>3193</td>\n",
       "      <td>563</td>\n",
       "      <td>2098</td>\n",
       "      <td>3098</td>\n",
       "      <td>...</td>\n",
       "      <td>4120</td>\n",
       "      <td>505</td>\n",
       "      <td>3145</td>\n",
       "      <td>6683</td>\n",
       "      <td>7287</td>\n",
       "      <td>3231</td>\n",
       "      <td>6154</td>\n",
       "      <td>472</td>\n",
       "      <td>4310</td>\n",
       "      <td>14550</td>\n",
       "    </tr>\n",
       "    <tr>\n",
       "      <th>9</th>\n",
       "      <td>Afghanistan</td>\n",
       "      <td>AFG</td>\n",
       "      <td>1999</td>\n",
       "      <td>3200</td>\n",
       "      <td>1281</td>\n",
       "      <td>409</td>\n",
       "      <td>3115</td>\n",
       "      <td>468</td>\n",
       "      <td>2084</td>\n",
       "      <td>2917</td>\n",
       "      <td>...</td>\n",
       "      <td>4150</td>\n",
       "      <td>502</td>\n",
       "      <td>3068</td>\n",
       "      <td>6603</td>\n",
       "      <td>7400</td>\n",
       "      <td>3247</td>\n",
       "      <td>6182</td>\n",
       "      <td>470</td>\n",
       "      <td>4332</td>\n",
       "      <td>15417</td>\n",
       "    </tr>\n",
       "  </tbody>\n",
       "</table>\n",
       "<p>10 rows × 35 columns</p>\n",
       "</div>"
      ],
      "text/plain": [
       "        Entité Code  Année  Méningite  Démence  Parkinson s  \\\n",
       "0  Afghanistan  AFG   1990       2159     1116          371   \n",
       "1  Afghanistan  AFG   1991       2218     1136          374   \n",
       "2  Afghanistan  AFG   1992       2475     1162          378   \n",
       "3  Afghanistan  AFG   1993       2812     1187          384   \n",
       "4  Afghanistan  AFG   1994       3027     1211          391   \n",
       "5  Afghanistan  AFG   1995       3102     1225          394   \n",
       "6  Afghanistan  AFG   1996       3193     1239          398   \n",
       "7  Afghanistan  AFG   1997       3304     1253          402   \n",
       "8  Afghanistan  AFG   1998       3281     1267          405   \n",
       "9  Afghanistan  AFG   1999       3200     1281          409   \n",
       "\n",
       "   Déficience nutritionnelle   Le paludisme  Noyade  Interpersonnel  ...  \\\n",
       "0                        2087            93    1370            1538  ...   \n",
       "1                        2153           189    1391            2001  ...   \n",
       "2                        2441           239    1514            2299  ...   \n",
       "3                        2837           108    1687            2589  ...   \n",
       "4                        3081           211    1809            2849  ...   \n",
       "5                        3131           175    1881            2969  ...   \n",
       "6                        3175           175    1969            3331  ...   \n",
       "7                        3250           240    2078            3028  ...   \n",
       "8                        3193           563    2098            3098  ...   \n",
       "9                        3115           468    2084            2917  ...   \n",
       "\n",
       "   Reins chroniques  Empoisonnement  Malnutrition protéino-énergétique  \\\n",
       "0              3709             338                               2054   \n",
       "1              3724             351                               2119   \n",
       "2              3776             386                               2404   \n",
       "3              3862             425                               2797   \n",
       "4              3932             451                               3038   \n",
       "5              3974             467                               3087   \n",
       "6              4041             485                               3130   \n",
       "7              4094             504                               3203   \n",
       "8              4120             505                               3145   \n",
       "9              4150             502                               3068   \n",
       "\n",
       "   Blessures de la route  Maladie respiratoire chronique  \\\n",
       "0                   4154                            5945   \n",
       "1                   4472                            6050   \n",
       "2                   5106                            6223   \n",
       "3                   5681                            6445   \n",
       "4                   6001                            6664   \n",
       "5                   6211                            6823   \n",
       "6                   6446                            7000   \n",
       "7                   6677                            7168   \n",
       "8                   6683                            7287   \n",
       "9                   6603                            7400   \n",
       "\n",
       "   Maladie chronique du foie  Maladie digestive  Décès dus aux incendies  \\\n",
       "0                       2673               5005                      323   \n",
       "1                       2728               5120                      332   \n",
       "2                       2830               5335                      360   \n",
       "3                       2943               5568                      396   \n",
       "4                       3027               5739                      420   \n",
       "5                       3076               5843                      434   \n",
       "6                       3133               5966                      450   \n",
       "7                       3200               6096                      469   \n",
       "8                       3231               6154                      472   \n",
       "9                       3247               6182                      470   \n",
       "\n",
       "   Hépatite aiguë  Rougeole   \n",
       "0            2985      10037  \n",
       "1            3092      10021  \n",
       "2            3325       9807  \n",
       "3            3601      10228  \n",
       "4            3816      12144  \n",
       "5            3946      13860  \n",
       "6            4098      14499  \n",
       "7            4252      14104  \n",
       "8            4310      14550  \n",
       "9            4332      15417  \n",
       "\n",
       "[10 rows x 35 columns]"
      ]
     },
     "execution_count": 16,
     "metadata": {},
     "output_type": "execute_result"
    }
   ],
   "source": [
    "df.head(10)"
   ]
  },
  {
   "cell_type": "code",
   "execution_count": 17,
   "id": "fcc15178-f78f-4f8f-9d55-32f2ad80b3ee",
   "metadata": {},
   "outputs": [
    {
     "name": "stdout",
     "output_type": "stream",
     "text": [
      "<class 'pandas.core.frame.DataFrame'>\n",
      "RangeIndex: 6840 entries, 0 to 6839\n",
      "Data columns (total 35 columns):\n",
      " #   Column                             Non-Null Count  Dtype \n",
      "---  ------                             --------------  ----- \n",
      " 0   Entité                             6840 non-null   object\n",
      " 1   Code                               6840 non-null   object\n",
      " 2   Année                              6840 non-null   int64 \n",
      " 3   Méningite                          6840 non-null   int64 \n",
      " 4   Démence                            6840 non-null   int64 \n",
      " 5   Parkinson s                        6840 non-null   int64 \n",
      " 6   Déficience nutritionnelle          6840 non-null   int64 \n",
      " 7   Le paludisme                       6840 non-null   int64 \n",
      " 8   Noyade                             6840 non-null   int64 \n",
      " 9   Interpersonnel                     6840 non-null   int64 \n",
      " 10  Troubles maternels                 6840 non-null   int64 \n",
      " 11  VIH/SIDA                           6840 non-null   int64 \n",
      " 12  Troubles liés à la drogue          6840 non-null   int64 \n",
      " 13  Tuberculose                        6840 non-null   int64 \n",
      " 14  Cardiovasculaire                   6840 non-null   int64 \n",
      " 15  Troubles respiratoires inférieurs  6840 non-null   int64 \n",
      " 16  Troubles néonataux f               6840 non-null   int64 \n",
      " 17  Troubles liés à l'alcool           6840 non-null   int64 \n",
      " 18  Auto-mutilation                    6840 non-null   int64 \n",
      " 19  Forces de la nature                6840 non-null   int64 \n",
      " 20  Maladie diarrhéique                6840 non-null   int64 \n",
      " 21  Environnement                      6840 non-null   int64 \n",
      " 22  Tumeur                             6840 non-null   int64 \n",
      " 23  Conflit                            6840 non-null   int64 \n",
      " 24  Diabète                            6840 non-null   int64 \n",
      " 25  Reins chroniques                   6840 non-null   int64 \n",
      " 26  Empoisonnement                     6840 non-null   int64 \n",
      " 27  Malnutrition protéino-énergétique  6840 non-null   int64 \n",
      " 28  Blessures de la route              6840 non-null   int64 \n",
      " 29  Maladie respiratoire chronique     6840 non-null   int64 \n",
      " 30  Maladie chronique du foie          6840 non-null   int64 \n",
      " 31  Maladie digestive                  6840 non-null   int64 \n",
      " 32  Décès dus aux incendies            6840 non-null   int64 \n",
      " 33  Hépatite aiguë                     6840 non-null   int64 \n",
      " 34  Rougeole                           6840 non-null   int64 \n",
      "dtypes: int64(33), object(2)\n",
      "memory usage: 1.8+ MB\n"
     ]
    }
   ],
   "source": [
    "df.info()"
   ]
  },
  {
   "cell_type": "code",
   "execution_count": 34,
   "id": "dbb9b0e9-302d-484b-8508-5ce00c7a96d1",
   "metadata": {},
   "outputs": [
    {
     "ename": "TypeError",
     "evalue": "unsupported operand type(s) for &: 'str' and 'bool'",
     "output_type": "error",
     "traceback": [
      "\u001b[1;31m---------------------------------------------------------------------------\u001b[0m",
      "\u001b[1;31mTypeError\u001b[0m                                 Traceback (most recent call last)",
      "File \u001b[1;32m~\\AppData\\Local\\Programs\\Python\\Python311\\Lib\\site-packages\\pandas\\core\\ops\\array_ops.py:364\u001b[0m, in \u001b[0;36mna_logical_op\u001b[1;34m(x, y, op)\u001b[0m\n\u001b[0;32m    355\u001b[0m \u001b[38;5;28;01mtry\u001b[39;00m:\n\u001b[0;32m    356\u001b[0m     \u001b[38;5;66;03m# For exposition, write:\u001b[39;00m\n\u001b[0;32m    357\u001b[0m     \u001b[38;5;66;03m#  yarr = isinstance(y, np.ndarray)\u001b[39;00m\n\u001b[1;32m   (...)\u001b[0m\n\u001b[0;32m    362\u001b[0m     \u001b[38;5;66;03m# Then Cases where this goes through without raising include:\u001b[39;00m\n\u001b[0;32m    363\u001b[0m     \u001b[38;5;66;03m#  (xint or xbool) and (yint or bool)\u001b[39;00m\n\u001b[1;32m--> 364\u001b[0m     result \u001b[38;5;241m=\u001b[39m \u001b[43mop\u001b[49m\u001b[43m(\u001b[49m\u001b[43mx\u001b[49m\u001b[43m,\u001b[49m\u001b[43m \u001b[49m\u001b[43my\u001b[49m\u001b[43m)\u001b[49m\n\u001b[0;32m    365\u001b[0m \u001b[38;5;28;01mexcept\u001b[39;00m \u001b[38;5;167;01mTypeError\u001b[39;00m:\n",
      "\u001b[1;31mTypeError\u001b[0m: unsupported operand type(s) for &: 'str' and 'bool'",
      "\nDuring handling of the above exception, another exception occurred:\n",
      "\u001b[1;31mTypeError\u001b[0m                                 Traceback (most recent call last)",
      "Cell \u001b[1;32mIn[34], line 1\u001b[0m\n\u001b[1;32m----> 1\u001b[0m \u001b[43mdf\u001b[49m\u001b[43m[\u001b[49m\u001b[43mdf\u001b[49m\u001b[43m[\u001b[49m\u001b[38;5;124;43m'\u001b[39;49m\u001b[38;5;124;43mCode\u001b[39;49m\u001b[38;5;124;43m'\u001b[39;49m\u001b[43m]\u001b[49m\u001b[43m \u001b[49m\u001b[38;5;241;43m==\u001b[39;49m\u001b[43m \u001b[49m\u001b[38;5;124;43m'\u001b[39;49m\u001b[38;5;124;43mAFG\u001b[39;49m\u001b[38;5;124;43m'\u001b[39;49m\u001b[43m]\u001b[49m\u001b[43m \u001b[49m\u001b[38;5;241;43m&\u001b[39;49m\u001b[43m \u001b[49m\u001b[43mdf\u001b[49m\u001b[43m[\u001b[49m\u001b[43mdf\u001b[49m\u001b[38;5;241;43m.\u001b[39;49m\u001b[43mAnnée\u001b[49m\u001b[43m \u001b[49m\u001b[38;5;241;43m>\u001b[39;49m\u001b[38;5;241;43m=\u001b[39;49m\u001b[43m \u001b[49m\u001b[38;5;241;43m2000\u001b[39;49m\u001b[43m \u001b[49m\u001b[43m]\u001b[49m\n",
      "File \u001b[1;32m~\\AppData\\Local\\Programs\\Python\\Python311\\Lib\\site-packages\\pandas\\core\\ops\\common.py:76\u001b[0m, in \u001b[0;36m_unpack_zerodim_and_defer.<locals>.new_method\u001b[1;34m(self, other)\u001b[0m\n\u001b[0;32m     72\u001b[0m             \u001b[38;5;28;01mreturn\u001b[39;00m \u001b[38;5;28mNotImplemented\u001b[39m\n\u001b[0;32m     74\u001b[0m other \u001b[38;5;241m=\u001b[39m item_from_zerodim(other)\n\u001b[1;32m---> 76\u001b[0m \u001b[38;5;28;01mreturn\u001b[39;00m \u001b[43mmethod\u001b[49m\u001b[43m(\u001b[49m\u001b[38;5;28;43mself\u001b[39;49m\u001b[43m,\u001b[49m\u001b[43m \u001b[49m\u001b[43mother\u001b[49m\u001b[43m)\u001b[49m\n",
      "File \u001b[1;32m~\\AppData\\Local\\Programs\\Python\\Python311\\Lib\\site-packages\\pandas\\core\\arraylike.py:70\u001b[0m, in \u001b[0;36mOpsMixin.__and__\u001b[1;34m(self, other)\u001b[0m\n\u001b[0;32m     68\u001b[0m \u001b[38;5;129m@unpack_zerodim_and_defer\u001b[39m(\u001b[38;5;124m\"\u001b[39m\u001b[38;5;124m__and__\u001b[39m\u001b[38;5;124m\"\u001b[39m)\n\u001b[0;32m     69\u001b[0m \u001b[38;5;28;01mdef\u001b[39;00m \u001b[38;5;21m__and__\u001b[39m(\u001b[38;5;28mself\u001b[39m, other):\n\u001b[1;32m---> 70\u001b[0m     \u001b[38;5;28;01mreturn\u001b[39;00m \u001b[38;5;28;43mself\u001b[39;49m\u001b[38;5;241;43m.\u001b[39;49m\u001b[43m_logical_method\u001b[49m\u001b[43m(\u001b[49m\u001b[43mother\u001b[49m\u001b[43m,\u001b[49m\u001b[43m \u001b[49m\u001b[43moperator\u001b[49m\u001b[38;5;241;43m.\u001b[39;49m\u001b[43mand_\u001b[49m\u001b[43m)\u001b[49m\n",
      "File \u001b[1;32m~\\AppData\\Local\\Programs\\Python\\Python311\\Lib\\site-packages\\pandas\\core\\frame.py:7644\u001b[0m, in \u001b[0;36mDataFrame._arith_method\u001b[1;34m(self, other, op)\u001b[0m\n\u001b[0;32m   7641\u001b[0m \u001b[38;5;28mself\u001b[39m, other \u001b[38;5;241m=\u001b[39m \u001b[38;5;28mself\u001b[39m\u001b[38;5;241m.\u001b[39m_align_for_op(other, axis, flex\u001b[38;5;241m=\u001b[39m\u001b[38;5;28;01mTrue\u001b[39;00m, level\u001b[38;5;241m=\u001b[39m\u001b[38;5;28;01mNone\u001b[39;00m)\n\u001b[0;32m   7643\u001b[0m \u001b[38;5;28;01mwith\u001b[39;00m np\u001b[38;5;241m.\u001b[39merrstate(\u001b[38;5;28mall\u001b[39m\u001b[38;5;241m=\u001b[39m\u001b[38;5;124m\"\u001b[39m\u001b[38;5;124mignore\u001b[39m\u001b[38;5;124m\"\u001b[39m):\n\u001b[1;32m-> 7644\u001b[0m     new_data \u001b[38;5;241m=\u001b[39m \u001b[38;5;28;43mself\u001b[39;49m\u001b[38;5;241;43m.\u001b[39;49m\u001b[43m_dispatch_frame_op\u001b[49m\u001b[43m(\u001b[49m\u001b[43mother\u001b[49m\u001b[43m,\u001b[49m\u001b[43m \u001b[49m\u001b[43mop\u001b[49m\u001b[43m,\u001b[49m\u001b[43m \u001b[49m\u001b[43maxis\u001b[49m\u001b[38;5;241;43m=\u001b[39;49m\u001b[43maxis\u001b[49m\u001b[43m)\u001b[49m\n\u001b[0;32m   7645\u001b[0m \u001b[38;5;28;01mreturn\u001b[39;00m \u001b[38;5;28mself\u001b[39m\u001b[38;5;241m.\u001b[39m_construct_result(new_data)\n",
      "File \u001b[1;32m~\\AppData\\Local\\Programs\\Python\\Python311\\Lib\\site-packages\\pandas\\core\\frame.py:7687\u001b[0m, in \u001b[0;36mDataFrame._dispatch_frame_op\u001b[1;34m(self, right, func, axis)\u001b[0m\n\u001b[0;32m   7681\u001b[0m     \u001b[38;5;28;01massert\u001b[39;00m \u001b[38;5;28mself\u001b[39m\u001b[38;5;241m.\u001b[39mcolumns\u001b[38;5;241m.\u001b[39mequals(right\u001b[38;5;241m.\u001b[39mcolumns)\n\u001b[0;32m   7682\u001b[0m     \u001b[38;5;66;03m# TODO: The previous assertion `assert right._indexed_same(self)`\u001b[39;00m\n\u001b[0;32m   7683\u001b[0m     \u001b[38;5;66;03m#  fails in cases with empty columns reached via\u001b[39;00m\n\u001b[0;32m   7684\u001b[0m     \u001b[38;5;66;03m#  _frame_arith_method_with_reindex\u001b[39;00m\n\u001b[0;32m   7685\u001b[0m \n\u001b[0;32m   7686\u001b[0m     \u001b[38;5;66;03m# TODO operate_blockwise expects a manager of the same type\u001b[39;00m\n\u001b[1;32m-> 7687\u001b[0m     bm \u001b[38;5;241m=\u001b[39m \u001b[38;5;28;43mself\u001b[39;49m\u001b[38;5;241;43m.\u001b[39;49m\u001b[43m_mgr\u001b[49m\u001b[38;5;241;43m.\u001b[39;49m\u001b[43moperate_blockwise\u001b[49m\u001b[43m(\u001b[49m\n\u001b[0;32m   7688\u001b[0m \u001b[43m        \u001b[49m\u001b[38;5;66;43;03m# error: Argument 1 to \"operate_blockwise\" of \"ArrayManager\" has\u001b[39;49;00m\n\u001b[0;32m   7689\u001b[0m \u001b[43m        \u001b[49m\u001b[38;5;66;43;03m# incompatible type \"Union[ArrayManager, BlockManager]\"; expected\u001b[39;49;00m\n\u001b[0;32m   7690\u001b[0m \u001b[43m        \u001b[49m\u001b[38;5;66;43;03m# \"ArrayManager\"\u001b[39;49;00m\n\u001b[0;32m   7691\u001b[0m \u001b[43m        \u001b[49m\u001b[38;5;66;43;03m# error: Argument 1 to \"operate_blockwise\" of \"BlockManager\" has\u001b[39;49;00m\n\u001b[0;32m   7692\u001b[0m \u001b[43m        \u001b[49m\u001b[38;5;66;43;03m# incompatible type \"Union[ArrayManager, BlockManager]\"; expected\u001b[39;49;00m\n\u001b[0;32m   7693\u001b[0m \u001b[43m        \u001b[49m\u001b[38;5;66;43;03m# \"BlockManager\"\u001b[39;49;00m\n\u001b[0;32m   7694\u001b[0m \u001b[43m        \u001b[49m\u001b[43mright\u001b[49m\u001b[38;5;241;43m.\u001b[39;49m\u001b[43m_mgr\u001b[49m\u001b[43m,\u001b[49m\u001b[43m  \u001b[49m\u001b[38;5;66;43;03m# type: ignore[arg-type]\u001b[39;49;00m\n\u001b[0;32m   7695\u001b[0m \u001b[43m        \u001b[49m\u001b[43marray_op\u001b[49m\u001b[43m,\u001b[49m\n\u001b[0;32m   7696\u001b[0m \u001b[43m    \u001b[49m\u001b[43m)\u001b[49m\n\u001b[0;32m   7697\u001b[0m     \u001b[38;5;28;01mreturn\u001b[39;00m \u001b[38;5;28mself\u001b[39m\u001b[38;5;241m.\u001b[39m_constructor_from_mgr(bm, axes\u001b[38;5;241m=\u001b[39mbm\u001b[38;5;241m.\u001b[39maxes)\n\u001b[0;32m   7699\u001b[0m \u001b[38;5;28;01melif\u001b[39;00m \u001b[38;5;28misinstance\u001b[39m(right, Series) \u001b[38;5;129;01mand\u001b[39;00m axis \u001b[38;5;241m==\u001b[39m \u001b[38;5;241m1\u001b[39m:\n\u001b[0;32m   7700\u001b[0m     \u001b[38;5;66;03m# axis=1 means we want to operate row-by-row\u001b[39;00m\n",
      "File \u001b[1;32m~\\AppData\\Local\\Programs\\Python\\Python311\\Lib\\site-packages\\pandas\\core\\internals\\managers.py:1470\u001b[0m, in \u001b[0;36mBlockManager.operate_blockwise\u001b[1;34m(self, other, array_op)\u001b[0m\n\u001b[0;32m   1466\u001b[0m \u001b[38;5;28;01mdef\u001b[39;00m \u001b[38;5;21moperate_blockwise\u001b[39m(\u001b[38;5;28mself\u001b[39m, other: BlockManager, array_op) \u001b[38;5;241m-\u001b[39m\u001b[38;5;241m>\u001b[39m BlockManager:\n\u001b[0;32m   1467\u001b[0m \u001b[38;5;250m    \u001b[39m\u001b[38;5;124;03m\"\"\"\u001b[39;00m\n\u001b[0;32m   1468\u001b[0m \u001b[38;5;124;03m    Apply array_op blockwise with another (aligned) BlockManager.\u001b[39;00m\n\u001b[0;32m   1469\u001b[0m \u001b[38;5;124;03m    \"\"\"\u001b[39;00m\n\u001b[1;32m-> 1470\u001b[0m     \u001b[38;5;28;01mreturn\u001b[39;00m \u001b[43moperate_blockwise\u001b[49m\u001b[43m(\u001b[49m\u001b[38;5;28;43mself\u001b[39;49m\u001b[43m,\u001b[49m\u001b[43m \u001b[49m\u001b[43mother\u001b[49m\u001b[43m,\u001b[49m\u001b[43m \u001b[49m\u001b[43marray_op\u001b[49m\u001b[43m)\u001b[49m\n",
      "File \u001b[1;32m~\\AppData\\Local\\Programs\\Python\\Python311\\Lib\\site-packages\\pandas\\core\\internals\\ops.py:65\u001b[0m, in \u001b[0;36moperate_blockwise\u001b[1;34m(left, right, array_op)\u001b[0m\n\u001b[0;32m     63\u001b[0m res_blks: \u001b[38;5;28mlist\u001b[39m[Block] \u001b[38;5;241m=\u001b[39m []\n\u001b[0;32m     64\u001b[0m \u001b[38;5;28;01mfor\u001b[39;00m lvals, rvals, locs, left_ea, right_ea, rblk \u001b[38;5;129;01min\u001b[39;00m _iter_block_pairs(left, right):\n\u001b[1;32m---> 65\u001b[0m     res_values \u001b[38;5;241m=\u001b[39m \u001b[43marray_op\u001b[49m\u001b[43m(\u001b[49m\u001b[43mlvals\u001b[49m\u001b[43m,\u001b[49m\u001b[43m \u001b[49m\u001b[43mrvals\u001b[49m\u001b[43m)\u001b[49m\n\u001b[0;32m     66\u001b[0m     \u001b[38;5;28;01mif\u001b[39;00m (\n\u001b[0;32m     67\u001b[0m         left_ea\n\u001b[0;32m     68\u001b[0m         \u001b[38;5;129;01mand\u001b[39;00m \u001b[38;5;129;01mnot\u001b[39;00m right_ea\n\u001b[0;32m     69\u001b[0m         \u001b[38;5;129;01mand\u001b[39;00m \u001b[38;5;28mhasattr\u001b[39m(res_values, \u001b[38;5;124m\"\u001b[39m\u001b[38;5;124mreshape\u001b[39m\u001b[38;5;124m\"\u001b[39m)\n\u001b[0;32m     70\u001b[0m         \u001b[38;5;129;01mand\u001b[39;00m \u001b[38;5;129;01mnot\u001b[39;00m is_1d_only_ea_dtype(res_values\u001b[38;5;241m.\u001b[39mdtype)\n\u001b[0;32m     71\u001b[0m     ):\n\u001b[0;32m     72\u001b[0m         res_values \u001b[38;5;241m=\u001b[39m res_values\u001b[38;5;241m.\u001b[39mreshape(\u001b[38;5;241m1\u001b[39m, \u001b[38;5;241m-\u001b[39m\u001b[38;5;241m1\u001b[39m)\n",
      "File \u001b[1;32m~\\AppData\\Local\\Programs\\Python\\Python311\\Lib\\site-packages\\pandas\\core\\ops\\array_ops.py:456\u001b[0m, in \u001b[0;36mlogical_op\u001b[1;34m(left, right, op)\u001b[0m\n\u001b[0;32m    452\u001b[0m \u001b[38;5;28;01melse\u001b[39;00m:\n\u001b[0;32m    453\u001b[0m     \u001b[38;5;66;03m# i.e. scalar\u001b[39;00m\n\u001b[0;32m    454\u001b[0m     is_other_int_dtype \u001b[38;5;241m=\u001b[39m lib\u001b[38;5;241m.\u001b[39mis_integer(rvalues)\n\u001b[1;32m--> 456\u001b[0m res_values \u001b[38;5;241m=\u001b[39m \u001b[43mna_logical_op\u001b[49m\u001b[43m(\u001b[49m\u001b[43mlvalues\u001b[49m\u001b[43m,\u001b[49m\u001b[43m \u001b[49m\u001b[43mrvalues\u001b[49m\u001b[43m,\u001b[49m\u001b[43m \u001b[49m\u001b[43mop\u001b[49m\u001b[43m)\u001b[49m\n\u001b[0;32m    458\u001b[0m \u001b[38;5;66;03m# For int vs int `^`, `|`, `&` are bitwise operators and return\u001b[39;00m\n\u001b[0;32m    459\u001b[0m \u001b[38;5;66;03m#   integer dtypes.  Otherwise these are boolean ops\u001b[39;00m\n\u001b[0;32m    460\u001b[0m \u001b[38;5;28;01mif\u001b[39;00m \u001b[38;5;129;01mnot\u001b[39;00m (left\u001b[38;5;241m.\u001b[39mdtype\u001b[38;5;241m.\u001b[39mkind \u001b[38;5;129;01min\u001b[39;00m \u001b[38;5;124m\"\u001b[39m\u001b[38;5;124miu\u001b[39m\u001b[38;5;124m\"\u001b[39m \u001b[38;5;129;01mand\u001b[39;00m is_other_int_dtype):\n",
      "File \u001b[1;32m~\\AppData\\Local\\Programs\\Python\\Python311\\Lib\\site-packages\\pandas\\core\\ops\\array_ops.py:371\u001b[0m, in \u001b[0;36mna_logical_op\u001b[1;34m(x, y, op)\u001b[0m\n\u001b[0;32m    369\u001b[0m     x \u001b[38;5;241m=\u001b[39m ensure_object(x)\n\u001b[0;32m    370\u001b[0m     y \u001b[38;5;241m=\u001b[39m ensure_object(y)\n\u001b[1;32m--> 371\u001b[0m     result \u001b[38;5;241m=\u001b[39m \u001b[43mlibops\u001b[49m\u001b[38;5;241;43m.\u001b[39;49m\u001b[43mvec_binop\u001b[49m\u001b[43m(\u001b[49m\u001b[43mx\u001b[49m\u001b[38;5;241;43m.\u001b[39;49m\u001b[43mravel\u001b[49m\u001b[43m(\u001b[49m\u001b[43m)\u001b[49m\u001b[43m,\u001b[49m\u001b[43m \u001b[49m\u001b[43my\u001b[49m\u001b[38;5;241;43m.\u001b[39;49m\u001b[43mravel\u001b[49m\u001b[43m(\u001b[49m\u001b[43m)\u001b[49m\u001b[43m,\u001b[49m\u001b[43m \u001b[49m\u001b[43mop\u001b[49m\u001b[43m)\u001b[49m\n\u001b[0;32m    372\u001b[0m \u001b[38;5;28;01melse\u001b[39;00m:\n\u001b[0;32m    373\u001b[0m     \u001b[38;5;66;03m# let null fall thru\u001b[39;00m\n\u001b[0;32m    374\u001b[0m     \u001b[38;5;28;01massert\u001b[39;00m lib\u001b[38;5;241m.\u001b[39mis_scalar(y)\n",
      "File \u001b[1;32mops.pyx:252\u001b[0m, in \u001b[0;36mpandas._libs.ops.vec_binop\u001b[1;34m()\u001b[0m\n",
      "File \u001b[1;32mops.pyx:245\u001b[0m, in \u001b[0;36mpandas._libs.ops.vec_binop\u001b[1;34m()\u001b[0m\n",
      "\u001b[1;31mTypeError\u001b[0m: unsupported operand type(s) for &: 'str' and 'bool'"
     ]
    }
   ],
   "source": [
    "df[df['Code'] == 'AFG'] & df[df.Année >= 2000 ]"
   ]
  },
  {
   "cell_type": "code",
   "execution_count": 28,
   "id": "bf0355d8-2e88-434b-9a8f-6574a9d69c48",
   "metadata": {},
   "outputs": [
    {
     "data": {
      "text/plain": [
       "(6840, 35)"
      ]
     },
     "execution_count": 28,
     "metadata": {},
     "output_type": "execute_result"
    }
   ],
   "source": [
    "df.shape"
   ]
  },
  {
   "cell_type": "code",
   "execution_count": 142,
   "id": "a8c7ae01-a4d8-4b3a-9ffa-df7afa358094",
   "metadata": {},
   "outputs": [],
   "source": [
    "#print(df.dtypes)"
   ]
  },
  {
   "cell_type": "code",
   "execution_count": 143,
   "id": "b90d0ccb-44f9-4f3d-bcb7-aee73583da65",
   "metadata": {},
   "outputs": [],
   "source": [
    "df.columns = df.columns.str.strip()"
   ]
  },
  {
   "cell_type": "code",
   "execution_count": 172,
   "id": "03535198-0c61-484b-8c9e-19f95f7fb250",
   "metadata": {},
   "outputs": [
    {
     "name": "stdout",
     "output_type": "stream",
     "text": [
      "2674494456\n"
     ]
    }
   ],
   "source": [
    "print(df['Cardiovasculaire'].sum())"
   ]
  },
  {
   "cell_type": "code",
   "execution_count": 145,
   "id": "c1c49426-1920-4cd2-aae3-7e0bb711ab8e",
   "metadata": {},
   "outputs": [
    {
     "name": "stdout",
     "output_type": "stream",
     "text": [
      "Index 0: 'Entité'\n",
      "Index 1: 'Code'\n",
      "Index 2: 'Année'\n",
      "Index 3: 'Méningite'\n",
      "Index 4: 'Démence'\n",
      "Index 5: 'Parkinson s'\n",
      "Index 6: 'Déficience nutritionnelle'\n",
      "Index 7: 'Le paludisme'\n",
      "Index 8: 'Noyade'\n",
      "Index 9: 'Interpersonnel'\n",
      "Index 10: 'Troubles maternels'\n",
      "Index 11: 'VIH/SIDA'\n",
      "Index 12: 'Troubles liés à la drogue'\n",
      "Index 13: 'Tuberculose'\n",
      "Index 14: 'Cardiovasculaire'\n",
      "Index 15: 'Troubles respiratoires inférieurs'\n",
      "Index 16: 'Troubles néonataux f'\n",
      "Index 17: 'Troubles liés à l'alcool'\n",
      "Index 18: 'Auto-mutilation'\n",
      "Index 19: 'Forces de la nature'\n",
      "Index 20: 'Maladie diarrhéique'\n",
      "Index 21: 'Environnement'\n",
      "Index 22: 'Tumeur'\n",
      "Index 23: 'Conflit'\n",
      "Index 24: 'Diabète'\n",
      "Index 25: 'Reins chroniques'\n",
      "Index 26: 'Empoisonnement'\n",
      "Index 27: 'Malnutrition protéino-énergétique'\n",
      "Index 28: 'Blessures de la route'\n",
      "Index 29: 'Maladie respiratoire chronique'\n",
      "Index 30: 'Maladie chronique du foie'\n",
      "Index 31: 'Maladie digestive'\n",
      "Index 32: 'Décès dus aux incendies'\n",
      "Index 33: 'Hépatite aiguë'\n",
      "Index 34: 'Rougeole'\n"
     ]
    }
   ],
   "source": [
    "for index, col in enumerate(df.columns):\n",
    "    print(f\"Index {index}: '{col}'\")"
   ]
  },
  {
   "cell_type": "code",
   "execution_count": 146,
   "id": "7c94aa1f-8afe-4698-8020-b52bcaba80e9",
   "metadata": {},
   "outputs": [],
   "source": [
    "mt= ['Méningite', 'Le paludisme', 'Tuberculose', 'VIH/SIDA', 'Hépatite aiguë','Troubles respiratoires inférieurs','Rougeole','Maladie diarrhéique'\n",
    "                         ]\n",
    "mnt = ['Démence','Parkinson s','Déficience nutritionnelle','Noyade','Troubles maternels','Troubles liés à la drogue','Cardiovasculaire','Troubles néonataux f','Troubles liés à l\\'alcool','Auto-mutilation','Malnutrition protéino-énergétique','Tumeur','Diabète','Reins chroniques','Maladie respiratoire chronique','Maladie chronique du foie','Maladie digestive']\n",
    "ac = ['Interpersonnel','Forces de la nature','Environnement','Conflit','Empoisonnement','Blessures de la route','Décès dus aux incendies']"
   ]
  },
  {
   "cell_type": "markdown",
   "id": "31899ef1-366c-41f7-bcbd-a7ea4f5019a1",
   "metadata": {},
   "source": [
    "# Analyse du taux de mortalité MT"
   ]
  },
  {
   "cell_type": "code",
   "execution_count": 147,
   "id": "6dc80401-2210-4189-b0cc-6831484b9473",
   "metadata": {},
   "outputs": [
    {
     "name": "stdout",
     "output_type": "stream",
     "text": [
      "Méningite                             56177943\n",
      "Le paludisme                         129297616\n",
      "Tuberculose                          254128070\n",
      "VIH/SIDA                             192486146\n",
      "Hépatite aiguë                        21286535\n",
      "Troubles respiratoires inférieurs    474311819\n",
      "Rougeole                              66959982\n",
      "Maladie diarrhéique                  363974043\n",
      "dtype: int64\n"
     ]
    }
   ],
   "source": [
    "rer = df[mt].sum()\n",
    "print(rer)\n"
   ]
  },
  {
   "cell_type": "code",
   "execution_count": 148,
   "id": "61e9d9dd-07f6-4f36-83de-34cfd7cfd69c",
   "metadata": {},
   "outputs": [
    {
     "data": {
      "text/plain": [
       "array([ 56177943, 129297616, 254128070, 192486146,  21286535, 474311819,\n",
       "        66959982, 363974043], dtype=int64)"
      ]
     },
     "execution_count": 148,
     "metadata": {},
     "output_type": "execute_result"
    }
   ],
   "source": [
    "rer.values"
   ]
  },
  {
   "cell_type": "raw",
   "id": "82d11fda-1630-4523-9eb0-2e88cf344b97",
   "metadata": {},
   "source": [
    "\"\"\"mt_add = ['Méningite'+'Le paludisme'+'Tuberculose'+'VIH/SIDA'+'Hépatite aiguë'+'Troubles respiratoires inférieurs'+'Rougeole'+'Maladie diarrhéique'\n",
    "                        ]\n",
    "mnt_add = ['Démence'+'Parkinson s'+'Déficience nutritionnelle'+'Noyade'+'Troubles maternels'+'Troubles liés à la drogue'+'Cardiovasculaire'+'Troubles néonataux f'+'Troubles liés à l\\'alcool'+'Auto-mutilation'+'Malnutrition protéino-énergétique'+'Tumeur'+'Diabète'+'Reins chroniques'+'Maladie respiratoire chronique'+'Maladie chronique du foie'+'Maladie digestive']\n",
    "ac_add = ['Interpersonnel'+'Forces de la nature'+'Environnement'+'Conflit'+'Empoisonnement'+'Blessures de la route'+'Décès dus aux incendies']\"\"\""
   ]
  },
  {
   "cell_type": "code",
   "execution_count": 149,
   "id": "16c3e0ad-b10b-4d52-8c9d-66955845f5a1",
   "metadata": {},
   "outputs": [
    {
     "data": {
      "image/png": "[encoded data removed]",
      "text/plain": [
       "<Figure size 640x480 with 1 Axes>"
      ]
     },
     "metadata": {},
     "output_type": "display_data"
    }
   ],
   "source": [
    "plt.figure()\n",
    "label = [\" Méningite \",\"Le paludisme\",\"Tuberculose\",\"VIH/SIDA\",\"Hépatite aiguë\",\"Tuberculose\",\"Troubles respiratoires inférieurs\",\"Rougeole\",\"Maladie diarrhéique\"] \n",
    "value =[56177943, 129297616,254128070, 192486146,21286535,254128070,474311819,66959982,363974043]\n",
    "plt. pie(value, labels = label,autopct='%1.1f%%')\n",
    "plt.title(\"taux de mortalité en 30 ans(1990-2019) dans le monde MT\")\n",
    "plt.show()"
   ]
  },
  {
   "cell_type": "markdown",
   "id": "59fe8fd7-0fa5-4090-84f7-521cc080c20f",
   "metadata": {},
   "source": [
    "## interpretation"
   ]
  },
  {
   "cell_type": "markdown",
   "id": "b34dda62-6437-4752-baf1-248018096e01",
   "metadata": {},
   "source": [
    "# Analyses du taux de mortalites MNT"
   ]
  },
  {
   "cell_type": "code",
   "execution_count": 150,
   "id": "b0402a0d-d383-4ee1-bd69-d05fb57ce271",
   "metadata": {},
   "outputs": [],
   "source": [
    "mnt_add = df[mnt].sum()"
   ]
  },
  {
   "cell_type": "code",
   "execution_count": 151,
   "id": "62c76c75-4bf5-438a-86c4-2dc0352d8da0",
   "metadata": {},
   "outputs": [
    {
     "data": {
      "text/plain": [
       "<bound method Series.info of Démence                               187164207\n",
       "Parkinson s                            44416411\n",
       "Déficience nutritionnelle              75283461\n",
       "Noyade                                 58954337\n",
       "Troubles maternels                     41936498\n",
       "Troubles liés à la drogue              16751644\n",
       "Cardiovasculaire                     2674494456\n",
       "Troubles néonataux f                  419395741\n",
       "Troubles liés à l'alcool               29053413\n",
       "Auto-mutilation                       142104904\n",
       "Malnutrition protéino-énergétique      65195657\n",
       "Tumeur                               1414869873\n",
       "Diabète                               185658168\n",
       "Reins chroniques                      171471473\n",
       "Maladie respiratoire chronique        624518660\n",
       "Maladie chronique du foie             218188606\n",
       "Maladie digestive                     386634503\n",
       "dtype: int64>"
      ]
     },
     "execution_count": 151,
     "metadata": {},
     "output_type": "execute_result"
    }
   ],
   "source": [
    "mnt_add.info"
   ]
  },
  {
   "cell_type": "code",
   "execution_count": null,
   "id": "033a68bf-da9b-4a38-bbf4-00842f70ac6d",
   "metadata": {},
   "outputs": [],
   "source": []
  },
  {
   "cell_type": "code",
   "execution_count": 152,
   "id": "13dc3a0f-f76f-4f05-a3f1-71a989baa1fd",
   "metadata": {},
   "outputs": [
    {
     "name": "stdout",
     "output_type": "stream",
     "text": [
      "[ 187164207   44416411   75283461   58954337   41936498   16751644\n",
      " 2674494456  419395741   29053413  142104904   65195657 1414869873\n",
      "  185658168  171471473  624518660  218188606  386634503]\n",
      "['Démence', 'Parkinson s', 'Déficience nutritionnelle', 'Noyade', 'Troubles maternels', 'Troubles liés à la drogue', 'Cardiovasculaire', 'Troubles néonataux f', \"Troubles liés à l'alcool\", 'Auto-mutilation', 'Malnutrition protéino-énergétique', 'Tumeur', 'Diabète', 'Reins chroniques', 'Maladie respiratoire chronique', 'Maladie chronique du foie', 'Maladie digestive']\n"
     ]
    }
   ],
   "source": [
    "valeur = print(mnt_add.values)\n",
    "label = print(mnt)"
   ]
  },
  {
   "cell_type": "code",
   "execution_count": 153,
   "id": "0121a9ed-d06c-4ff4-8fc2-f402ab897cf6",
   "metadata": {},
   "outputs": [],
   "source": [
    "x = [187164207,44416411,75283461,58954337,41936498,16751644,2674494456,419395741,29053413,142104904,65195657,1414869873,185658168,171471473,624518660,218188606,386634503]\n",
    "y = ['Démence','Parkinson s','Déficience nutritionnelle','Noyade','Troubles maternels','Troubles liés à la drogue','Cardiovasculaire','Troubles néonataux f', \"Troubles liés à l'alcool\",'Auto-mutilation','Malnutrition protéino-énergétique','Tumeur','Diabète','Reins chroniques','Maladie respiratoire chronique','Maladie chronique du foie','Maladie digestive']"
   ]
  },
  {
   "cell_type": "code",
   "execution_count": 173,
   "id": "64fef3e9-fe2d-4a32-a117-f5f5c2a03d1a",
   "metadata": {},
   "outputs": [
    {
     "name": "stdout",
     "output_type": "stream",
     "text": [
      "6756092012\n",
      "Cardiovasculaire: 39.59%\n",
      "Tumeur: 20.94%\n",
      "Maladie respiratoire chronique: 9.24%\n",
      "Troubles néonataux f: 6.21%\n",
      "Maladie digestive: 5.72%\n",
      "Maladie chronique du foie: 3.23%\n",
      "Démence: 2.77%\n",
      "Diabète: 2.75%\n",
      "Reins chroniques: 2.54%\n",
      "Auto-mutilation: 2.10%\n",
      "Déficience nutritionnelle: 1.11%\n",
      "Malnutrition protéino-énergétique: 0.96%\n",
      "Noyade: 0.87%\n",
      "Parkinson s: 0.66%\n",
      "Troubles maternels: 0.62%\n",
      "Troubles liés à l'alcool: 0.43%\n",
      "Troubles liés à la drogue: 0.25%\n"
     ]
    }
   ],
   "source": [
    "total = sum(x)\n",
    "print(total)\n",
    "percentages = [(valeur / total) * 100 for valeur in x]\n",
    "sorted_percentages = sorted(zip(y, percentages), key=lambda x: x[1], reverse=True)\n",
    "# Afficher les pourcentages triés\n",
    "for label, percentage in sorted_percentages:\n",
    "    print(f\"{label}: {percentage:.2f}%\")\n"
   ]
  },
  {
   "cell_type": "code",
   "execution_count": 155,
   "id": "55765926-aadf-47db-9e75-104c1d43862e",
   "metadata": {},
   "outputs": [
    {
     "data": {
      "image/png": "[encoded data removed]",
      "text/plain": [
       "<Figure size 640x480 with 1 Axes>"
      ]
     },
     "metadata": {},
     "output_type": "display_data"
    }
   ],
   "source": [
    "plt.figure()\n",
    "plt.pie(x, labels = y, autopct='%1.1f%%')\n",
    "plt.title(\"taux de mortalité en 30 ans(1990-2019) dans le monde Maladie_non transmissible\")\n",
    "plt.show()"
   ]
  },
  {
   "cell_type": "markdown",
   "id": "6c93ebdc-606a-46ae-bc71-8de25fc7da26",
   "metadata": {},
   "source": [
    "# Autre cause de décès"
   ]
  },
  {
   "cell_type": "code",
   "execution_count": 174,
   "id": "258876b1-a9dd-443e-ba4c-a2c070f3d3f7",
   "metadata": {},
   "outputs": [
    {
     "name": "stdout",
     "output_type": "stream",
     "text": [
      "Interpersonnel              72754677\n",
      "Forces de la nature          8061257\n",
      "Environnement               10500712\n",
      "Conflit                     16688865\n",
      "Empoisonnement              14674918\n",
      "Blessures de la route      209543100\n",
      "Décès dus aux incendies     20561336\n",
      "dtype: int64\n",
      "[ 72754677   8061257  10500712  16688865  14674918 209543100  20561336]\n",
      "['Interpersonnel', 'Forces de la nature', 'Environnement', 'Conflit', 'Empoisonnement', 'Blessures de la route', 'Décès dus aux incendies']\n"
     ]
    }
   ],
   "source": [
    "ac_add = df[ac].sum()\n",
    "print(ac_add)\n",
    "print(ac_add.values)\n",
    "print(ac)"
   ]
  },
  {
   "cell_type": "code",
   "execution_count": 157,
   "id": "4d3b1712-4057-4481-8885-427c603a236f",
   "metadata": {},
   "outputs": [],
   "source": [
    "valeur = [72754677,8061257,10500712,16688865,14674918,209543100,20561336]\n",
    "label = ['Interpersonnel', 'Forces de la nature', 'Environnement', 'Conflit', 'Empoisonnement', 'Blessures de la route', 'Décès dus aux incendies']"
   ]
  },
  {
   "cell_type": "code",
   "execution_count": 158,
   "id": "8f65a86f-c7eb-40c7-81ca-878caa193d0e",
   "metadata": {},
   "outputs": [
    {
     "data": {
      "text/plain": [
       "<matplotlib.legend.Legend at 0x1e9db46fe50>"
      ]
     },
     "execution_count": 158,
     "metadata": {},
     "output_type": "execute_result"
    },
    {
     "data": {
      "image/png": "[encoded data removed]",
      "text/plain": [
       "<Figure size 640x480 with 1 Axes>"
      ]
     },
     "metadata": {},
     "output_type": "display_data"
    }
   ],
   "source": [
    "plt.figure()\n",
    "plt.pie(valeur, labels = label, autopct='%1.1f%%')\n",
    "plt.title(\"taux de mortalité en 30 ans(1990-2019) dans le monde Autre cause\")\n",
    "plt.legend([\"0\", \"1\", \"2\", \"3\", \"4\", \"5\", \"6\"], loc=\"center left\")"
   ]
  },
  {
   "cell_type": "code",
   "execution_count": 196,
   "id": "e95b0f5b-eed8-49bf-aa9b-964b36f06595",
   "metadata": {},
   "outputs": [],
   "source": [
    "data = df.iloc[:,3:]\n",
    "df1 = pd.DataFrame(data)"
   ]
  },
  {
   "cell_type": "code",
   "execution_count": 197,
   "id": "c45d6fbe-9504-4882-90ae-ca709cced5b2",
   "metadata": {},
   "outputs": [
    {
     "name": "stdout",
     "output_type": "stream",
     "text": [
      "[  56177943  187164207   44416411   75283461  129297616   58954337\n",
      "   72754677   41936498  192486146   16751644  254128070 2674494456\n",
      "  474311819  419395741   29053413  142104904    8061257  363974043\n",
      "   10500712 1414869873   16688865  185658168  171471473   14674918\n",
      "   65195657  209543100  624518660  218188606  386634503   20561336\n",
      "   21286535   66959982]\n"
     ]
    }
   ],
   "source": [
    "#df1.values\n",
    "dal = df1.sum()\n",
    "print(dal.values)"
   ]
  },
  {
   "cell_type": "code",
   "execution_count": 198,
   "id": "a3a195ec-b0a5-470c-8ed9-73693cb34497",
   "metadata": {},
   "outputs": [
    {
     "data": {
      "text/plain": [
       "Index(['Méningite', 'Démence', 'Parkinson s', 'Déficience nutritionnelle',\n",
       "       'Le paludisme', 'Noyade', 'Interpersonnel', 'Troubles maternels',\n",
       "       'VIH/SIDA', 'Troubles liés à la drogue', 'Tuberculose',\n",
       "       'Cardiovasculaire', 'Troubles respiratoires inférieurs',\n",
       "       'Troubles néonataux f', 'Troubles liés à l'alcool', 'Auto-mutilation',\n",
       "       'Forces de la nature', 'Maladie diarrhéique', 'Environnement', 'Tumeur',\n",
       "       'Conflit', 'Diabète', 'Reins chroniques', 'Empoisonnement',\n",
       "       'Malnutrition protéino-énergétique', 'Blessures de la route',\n",
       "       'Maladie respiratoire chronique', 'Maladie chronique du foie',\n",
       "       'Maladie digestive', 'Décès dus aux incendies', 'Hépatite aiguë',\n",
       "       'Rougeole'],\n",
       "      dtype='object')"
      ]
     },
     "execution_count": 198,
     "metadata": {},
     "output_type": "execute_result"
    }
   ],
   "source": [
    "df1.columns"
   ]
  },
  {
   "cell_type": "code",
   "execution_count": 210,
   "id": "72c3bd98-80f4-4fa5-9ad8-dcbd9ed5b443",
   "metadata": {},
   "outputs": [],
   "source": [
    "dal.values\n",
    "\n",
    "label_general = ['Méningite','Démence', 'Parkinson s', 'Déficience nutritionnelle',\n",
    "       'Le paludisme', 'Noyade', 'Interpersonnel', 'Troubles maternels',\n",
    "       'VIH/SIDA', 'Troubles liés à la drogue', 'Tuberculose',\n",
    "       'Cardiovasculaire', 'Troubles respiratoires inférieurs',\n",
    "       'Troubles néonataux f', \"Troubles liés à l'alcool\", 'Auto-mutilation',\n",
    "       'Forces de la nature', 'Maladie diarrhéique', 'Environnement', 'Tumeur',\n",
    "       'Conflit', 'Diabète', 'Reins chroniques', 'Empoisonnement',\n",
    "       'Malnutrition protéino-énergétique', 'Blessures de la route',\n",
    "       'Maladie respiratoire chronique', 'Maladie chronique du foie',\n",
    "       'Maladie digestive', 'Décès dus aux incendies', 'Hépatite aiguë',\n",
    "       'Rougeole']"
   ]
  },
  {
   "cell_type": "code",
   "execution_count": 211,
   "id": "8c2ab977-aacf-468c-9574-4388cdb13a24",
   "metadata": {},
   "outputs": [
    {
     "name": "stdout",
     "output_type": "stream",
     "text": [
      "8667499031\n"
     ]
    }
   ],
   "source": [
    "total = 0\n",
    "for i in dal.values:\n",
    "    total += i\n",
    "print(total) "
   ]
  },
  {
   "cell_type": "code",
   "execution_count": 218,
   "id": "d53fa44a-9ccb-4b72-b87e-72e3d8464969",
   "metadata": {},
   "outputs": [
    {
     "name": "stdout",
     "output_type": "stream",
     "text": [
      "[0.65, 2.16, 0.51, 0.87, 1.49, 0.68, 0.84, 0.48, 2.22, 0.19, 2.93, 30.86, 5.47, 4.84, 0.34, 1.64, 0.09, 4.2, 0.12, 16.32, 0.19, 2.14, 1.98, 0.17, 0.75, 2.42, 7.21, 2.52, 4.46, 0.24, 0.25, 0.77]\n"
     ]
    }
   ],
   "source": [
    "percentages = [round((valeur/total)*100, 2) for valeur in dal.values]\n",
    "print(percentages)"
   ]
  },
  {
   "cell_type": "code",
   "execution_count": 222,
   "id": "4878060b-9694-4b5c-b679-18abe219bafc",
   "metadata": {},
   "outputs": [
    {
     "name": "stdout",
     "output_type": "stream",
     "text": [
      "Cardiovasculaire : 30.86%\n",
      "Tumeur : 16.32%\n",
      "Maladie respiratoire chronique : 7.21%\n",
      "Troubles respiratoires inférieurs : 5.47%\n",
      "Troubles néonataux f : 4.84%\n",
      "Maladie digestive : 4.46%\n",
      "Maladie diarrhéique : 4.20%\n",
      "Tuberculose : 2.93%\n",
      "Maladie chronique du foie : 2.52%\n",
      "Blessures de la route : 2.42%\n",
      "VIH/SIDA : 2.22%\n",
      "Démence : 2.16%\n",
      "Diabète : 2.14%\n",
      "Reins chroniques : 1.98%\n",
      "Auto-mutilation : 1.64%\n",
      "Le paludisme : 1.49%\n",
      "Déficience nutritionnelle : 0.87%\n",
      "Interpersonnel : 0.84%\n",
      "Rougeole : 0.77%\n",
      "Malnutrition protéino-énergétique : 0.75%\n",
      "Noyade : 0.68%\n",
      "Méningite : 0.65%\n",
      "Parkinson s : 0.51%\n",
      "Troubles maternels : 0.48%\n",
      "Troubles liés à l'alcool : 0.34%\n",
      "Hépatite aiguë : 0.25%\n",
      "Décès dus aux incendies : 0.24%\n",
      "Troubles liés à la drogue : 0.19%\n",
      "Conflit : 0.19%\n",
      "Empoisonnement : 0.17%\n",
      "Environnement : 0.12%\n",
      "Forces de la nature : 0.09%\n"
     ]
    }
   ],
   "source": [
    "classement = sorted(zip(label_general, percentages), key=lambda x: x[1], reverse= True)\n",
    "for libele, taux in classement:\n",
    "     print(f\"{libele} : {taux:.2f}%\")"
   ]
  },
  {
   "cell_type": "markdown",
   "id": "c33ae70e-2af5-4521-b158-68897827b6c1",
   "metadata": {},
   "source": [
    "## Interpretation"
   ]
  },
  {
   "cell_type": "markdown",
   "id": "dea673a6-a6c8-4e25-9064-02b02af784d5",
   "metadata": {},
   "source": [
    "Mon analyse des causes de mortalité révèle des informations très pertinentes. En 30 ans, plus de 8 667 499 031 décès ont été enregistrés. La maladie la plus meurtrière est la maladie cardiovasculaire, qui à elle seule a causé 2 674 494 456 décès, soit 30,86 % des causes de mortalité dans le monde. Bien qu'il s'agisse d'une maladie non transmissible, elle pourrait être contrôlée. Plusieurs actions ont été entreprises pour réduire son impact, mais il reste encore beaucoup à faire.\n",
    "\n",
    "Les populations continuent de s'exposer à des risques favorisant cette maladie : la consommation de tabac, une mauvaise alimentation, l’usage nocif de l’alcool, le manque d’activité physique, la pollution de l’air, et l’hypertension.\n"
   ]
  },
  {
   "cell_type": "code",
   "execution_count": null,
   "id": "f8485e7e-dd46-4e44-a079-49aef48b71d9",
   "metadata": {},
   "outputs": [],
   "source": []
  }
 ],
 "metadata": {
  "kernelspec": {
   "display_name": "Python 3 (ipykernel)",
   "language": "python",
   "name": "python3"
  },
  "language_info": {
   "codemirror_mode": {
    "name": "ipython",
    "version": 3
   },
   "file_extension": ".py",
   "mimetype": "text/x-python",
   "name": "python",
   "nbconvert_exporter": "python",
   "pygments_lexer": "ipython3",
   "version": "3.11.7"
  }
 },
 "nbformat": 4,
 "nbformat_minor": 5
}
